{
  "cells": [
    {
      "cell_type": "code",
      "execution_count": null,
      "metadata": {
        "id": "N-E3JRlttPak"
      },
      "outputs": [],
      "source": [
        "import pandas as pd\n",
        "import numpy as np\n",
        "import matplotlib.pyplot as plt\n",
        "import tensorflow as tf\n",
        "from tensorflow.keras.preprocessing.text import Tokenizer\n",
        "from tensorflow.keras.preprocessing.sequence import pad_sequences\n",
        "from sklearn.model_selection import train_test_split\n",
        "from konlpy.tag import Okt\n",
        "from konlpy.tag import Mecab\n",
        "import urllib.request\n",
        "from gensim.models.word2vec import Word2Vec\n",
        "from tensorflow.keras import utils\n",
        "import gensim\n",
        "from sklearn.preprocessing import LabelEncoder"
      ]
    },
    {
      "cell_type": "code",
      "execution_count": null,
      "metadata": {
        "id": "sI6Nb10OtPlE"
      },
      "outputs": [],
      "source": [
        "df_train = pd.read_excel('train.xlsx', engine='openpyxl')\n",
        "df_test = pd.read_excel('test.xlsx', engine='openpyxl')"
      ]
    },
    {
      "cell_type": "code",
      "execution_count": null,
      "metadata": {
        "colab": {
          "base_uri": "https://localhost:8080/"
        },
        "id": "Rxj0nA0l-Nnp",
        "outputId": "539611c6-a38c-4473-dc4a-4ce8b36f5538"
      },
      "outputs": [
        {
          "name": "stdout",
          "output_type": "stream",
          "text": [
            "False\n",
            "문장    0\n",
            "감정    0\n",
            "dtype: int64\n"
          ]
        }
      ],
      "source": [
        "df_train.replace(np.nan, '', inplace=True)\n",
        "\n",
        "ls = {}\n",
        "df = pd.DataFrame(ls)\n",
        "df['문장'] = df_train[['사람문장1', '사람문장2',\n",
        "                     '사람문장3','사람문장4']].apply(' '.join, axis =1)\n",
        "\n",
        "df['감정'] = df_train['감정_대분류']\n",
        "\n",
        "df['문장'].replace('', np.nan, inplace=True)\n",
        "print(df.isnull().values.any())\n",
        "print(df.isnull().sum())\n",
        "df = df.dropna(how = 'any')"
      ]
    },
    {
      "cell_type": "code",
      "execution_count": null,
      "metadata": {
        "colab": {
          "base_uri": "https://localhost:8080/"
        },
        "id": "thw1fjf0tPzn",
        "outputId": "4d0e05f9-27db-4ca1-ee22-6716570c43fe"
      },
      "outputs": [
        {
          "name": "stdout",
          "output_type": "stream",
          "text": [
            "['기쁨' '당황' '분노' '불안' '상처' '슬픔']\n"
          ]
        }
      ],
      "source": [
        "df['감정'][df['감정'] == '기쁨 '] = '기쁨'\n",
        "df['감정'][df['감정'] == '불안 '] = '불안'\n",
        "\n",
        "le = LabelEncoder()\n",
        "le.fit(df['감정'])\n",
        "print(le.classes_)\n",
        "df['감정_label']=le.transform(df['감정'])"
      ]
    },
    {
      "cell_type": "code",
      "execution_count": null,
      "metadata": {
        "colab": {
          "base_uri": "https://localhost:8080/"
        },
        "id": "w_VTIwa5tP2M",
        "outputId": "7f5729f3-bbc9-4228-9e7f-8f39404fe7ad"
      },
      "outputs": [
        {
          "name": "stderr",
          "output_type": "stream",
          "text": [
            "/Users/jhw/opt/anaconda3/envs/py37/lib/python3.7/site-packages/ipykernel_launcher.py:2: FutureWarning: The default value of regex will change from True to False in a future version.\n",
            "  \n"
          ]
        }
      ],
      "source": [
        "# 한글과 공백을 제외하고 모두 제거\n",
        "df['문장'] = df['문장'].str.replace(\"[^ㄱ-ㅎㅏ-ㅣ가-힣 ]\",\"\")"
      ]
    },
    {
      "cell_type": "code",
      "execution_count": null,
      "metadata": {
        "colab": {
          "base_uri": "https://localhost:8080/",
          "height": 280
        },
        "id": "3KhMYOOktP4n",
        "outputId": "27f6655e-be67-43da-e1b2-7c42905f4b68"
      },
      "outputs": [
        {
          "data": {
            "text/plain": [
              "<AxesSubplot:>"
            ]
          },
          "execution_count": 188,
          "metadata": {},
          "output_type": "execute_result"
        },
        {
          "data": {
            "image/png": "[encoded data removed]",
            "text/plain": [
              "<Figure size 640x480 with 1 Axes>"
            ]
          },
          "metadata": {},
          "output_type": "display_data"
        }
      ],
      "source": [
        "df['감정_label'].value_counts().plot(kind='bar')"
      ]
    },
    {
      "cell_type": "code",
      "execution_count": null,
      "metadata": {
        "id": "kAbQ86gq_mDs"
      },
      "outputs": [],
      "source": [
        "# train_data, test_data = train_test_split(df, test_size = 0.2, random_state = 11)"
      ]
    },
    {
      "cell_type": "code",
      "execution_count": null,
      "metadata": {
        "id": "7EvpTjHQlKgR"
      },
      "outputs": [],
      "source": [
        "# 잘 설치 되었는지 확인\n",
        "# ! mecab --version"
      ]
    },
    {
      "cell_type": "code",
      "execution_count": null,
      "metadata": {
        "id": "icuimo_3lKgR"
      },
      "outputs": [],
      "source": [
        "# from konlpy.tag import Mecab\n",
        "# mecab = Mecab()\n",
        "# mecab.morphs(\"아버지가방에들어가신다\")"
      ]
    },
    {
      "cell_type": "code",
      "execution_count": null,
      "metadata": {
        "id": "oAWEt6cA_n3G"
      },
      "outputs": [],
      "source": [
        "# stopwords = ['도', '는', '다', '의', '가', '이', '은', '한',\n",
        "#              '에', '하', '고', '을', '를', '인', '듯', '과',\n",
        "#              '와', '네', '들', '듯', '지', '임', '게', '것',\n",
        "#              '어', '겠', '있', '군요', '해', '계섯', '시',\n",
        "#              '나', '셨', '을까요', '으로']\n",
        "\n",
        "# mecab = Mecab()\n",
        "\n",
        "# train_data['tokenized'] = train_data['문장'].apply(mecab.morphs)\n",
        "# train_data['tokenized'] = train_data['tokenized'].apply(lambda x: [item for item in x if item not in stopwords])\n",
        "# test_data['tokenized'] = test_data['문장'].apply(mecab.morphs)\n",
        "# test_data['tokenized'] = test_data['tokenized'].apply(lambda x: [item for item in x if item not in stopwords])\n",
        "# train_data"
      ]
    },
    {
      "cell_type": "code",
      "execution_count": null,
      "metadata": {
        "id": "M99sXoGYlKgS"
      },
      "outputs": [],
      "source": [
        "import pickle\n",
        "\n",
        "with open(\"train_data.pkl\",\"rb\") as f:\n",
        "    train_data = pickle.load(f)\n",
        "\n",
        "with open(\"test_data.pkl\",\"rb\") as f:\n",
        "    test_data = pickle.load(f)"
      ]
    },
    {
      "cell_type": "code",
      "execution_count": null,
      "metadata": {
        "id": "Y0VoHfw9lKgT",
        "outputId": "e3021934-cdf1-46e3-fea6-19b6d5b5b87e"
      },
      "outputs": [
        {
          "data": {
            "text/html": [
              "<div>\n",
              "<style scoped>\n",
              "    .dataframe tbody tr th:only-of-type {\n",
              "        vertical-align: middle;\n",
              "    }\n",
              "\n",
              "    .dataframe tbody tr th {\n",
              "        vertical-align: top;\n",
              "    }\n",
              "\n",
              "    .dataframe thead th {\n",
              "        text-align: right;\n",
              "    }\n",
              "</style>\n",
              "<table border=\"1\" class=\"dataframe\">\n",
              "  <thead>\n",
              "    <tr style=\"text-align: right;\">\n",
              "      <th></th>\n",
              "      <th>문장</th>\n",
              "      <th>감정</th>\n",
              "      <th>감정_label</th>\n",
              "      <th>tokenized</th>\n",
              "    </tr>\n",
              "  </thead>\n",
              "  <tbody>\n",
              "    <tr>\n",
              "      <th>25709</th>\n",
              "      <td>예전에는 입원하면 손자들이 병문안을 왔었어 그런데 이제는 커서 그런지 입원해도 안부...</td>\n",
              "      <td>상처</td>\n",
              "      <td>4</td>\n",
              "      <td>[예전, 입원, 면, 손자, 병문안, 왔었, 그런데, 이제, 커서, 그런지, 입원,...</td>\n",
              "    </tr>\n",
              "    <tr>\n",
              "      <th>36926</th>\n",
              "      <td>나 기분이 우울해 가족들이랑 사이가 좋아지질 않아 맞아 어떻게 해야 할지 모르겠어</td>\n",
              "      <td>슬픔</td>\n",
              "      <td>5</td>\n",
              "      <td>[기분, 우울해, 가족, 이랑, 사이, 좋, 아, 질, 않, 아, 맞, 아, 어떻게...</td>\n",
              "    </tr>\n",
              "    <tr>\n",
              "      <th>9481</th>\n",
              "      <td>선생님이랑 진로 상담을 해야 하는데 나는 아직 진로를 정하지 못해서 불안해 몇 가지...</td>\n",
              "      <td>불안</td>\n",
              "      <td>3</td>\n",
              "      <td>[선생, 님, 이랑, 진로, 상담, 해야, 는데, 아직, 진로, 정하, 못해서, 불...</td>\n",
              "    </tr>\n",
              "    <tr>\n",
              "      <th>14771</th>\n",
              "      <td>나 요새 친구들이랑 대화하는 게 어려워 친구가 날 좋아하지 않을까 봐 걱정되고 내가...</td>\n",
              "      <td>불안</td>\n",
              "      <td>3</td>\n",
              "      <td>[요새, 친구, 이랑, 대화, 어려워, 친구, 날, 좋, 아, 않, 을까, 봐, 걱...</td>\n",
              "    </tr>\n",
              "    <tr>\n",
              "      <th>20908</th>\n",
              "      <td>원하는 기업에 원서 넣었던 거 서류전형 합격했어 서류전형 합격했으니 임원 면접이 남...</td>\n",
              "      <td>기쁨</td>\n",
              "      <td>0</td>\n",
              "      <td>[원, 기업, 원서, 넣, 었, 던, 거, 서류, 전형, 합격, 했, 서류, 전형,...</td>\n",
              "    </tr>\n",
              "  </tbody>\n",
              "</table>\n",
              "</div>"
            ],
            "text/plain": [
              "                                                      문장  감정  감정_label  \\\n",
              "25709  예전에는 입원하면 손자들이 병문안을 왔었어 그런데 이제는 커서 그런지 입원해도 안부...  상처         4   \n",
              "36926     나 기분이 우울해 가족들이랑 사이가 좋아지질 않아 맞아 어떻게 해야 할지 모르겠어   슬픔         5   \n",
              "9481   선생님이랑 진로 상담을 해야 하는데 나는 아직 진로를 정하지 못해서 불안해 몇 가지...  불안         3   \n",
              "14771  나 요새 친구들이랑 대화하는 게 어려워 친구가 날 좋아하지 않을까 봐 걱정되고 내가...  불안         3   \n",
              "20908  원하는 기업에 원서 넣었던 거 서류전형 합격했어 서류전형 합격했으니 임원 면접이 남...  기쁨         0   \n",
              "\n",
              "                                               tokenized  \n",
              "25709  [예전, 입원, 면, 손자, 병문안, 왔었, 그런데, 이제, 커서, 그런지, 입원,...  \n",
              "36926  [기분, 우울해, 가족, 이랑, 사이, 좋, 아, 질, 않, 아, 맞, 아, 어떻게...  \n",
              "9481   [선생, 님, 이랑, 진로, 상담, 해야, 는데, 아직, 진로, 정하, 못해서, 불...  \n",
              "14771  [요새, 친구, 이랑, 대화, 어려워, 친구, 날, 좋, 아, 않, 을까, 봐, 걱...  \n",
              "20908  [원, 기업, 원서, 넣, 었, 던, 거, 서류, 전형, 합격, 했, 서류, 전형,...  "
            ]
          },
          "execution_count": 194,
          "metadata": {},
          "output_type": "execute_result"
        }
      ],
      "source": [
        "train_data[:5]"
      ]
    },
    {
      "cell_type": "code",
      "execution_count": null,
      "metadata": {
        "id": "h9N8oA46lKgT",
        "outputId": "8505fae6-6cd5-403d-951a-1f9859eb18e9"
      },
      "outputs": [
        {
          "name": "stdout",
          "output_type": "stream",
          "text": [
            "['기분', '우울해', '가족', '이랑', '사이', '좋', '아', '질', '않', '아', '맞', '아', '어떻게', '해야', '할지', '모르']\n",
            "5\n"
          ]
        }
      ],
      "source": [
        "print(train_data['tokenized'].values[1])\n",
        "      \n",
        "print(train_data['감정_label'].values[1])"
      ]
    },
    {
      "cell_type": "code",
      "execution_count": null,
      "metadata": {
        "id": "idBt2dbXAO7y"
      },
      "outputs": [],
      "source": [
        "# np.array로 반환\n",
        "X_train = train_data['tokenized'].values\n",
        "y_train = train_data['감정_label'].values\n",
        "X_test= test_data['tokenized'].values\n",
        "y_test = test_data['감정_label'].values"
      ]
    },
    {
      "cell_type": "code",
      "execution_count": null,
      "metadata": {
        "id": "qjTZ2ycUlKgT",
        "outputId": "159e9f00-d89d-4e58-d2fd-267a9432470c"
      },
      "outputs": [
        {
          "name": "stdout",
          "output_type": "stream",
          "text": [
            "['기분', '우울해', '가족', '이랑', '사이', '좋', '아', '질', '않', '아', '맞', '아', '어떻게', '해야', '할지', '모르']\n"
          ]
        }
      ],
      "source": [
        "print(X_train[1])"
      ]
    },
    {
      "cell_type": "code",
      "execution_count": null,
      "metadata": {
        "id": "k4oDLt7fN9mE"
      },
      "outputs": [],
      "source": [
        "tokenizer = Tokenizer()\n",
        "tokenizer.fit_on_texts(X_train)\n",
        "#print(tokenizer.word_index)"
      ]
    },
    {
      "cell_type": "code",
      "execution_count": null,
      "metadata": {
        "id": "RNUIiM9KOAkv"
      },
      "outputs": [],
      "source": [
        "tokenizer = Tokenizer(len(tokenizer.word_index)) \n",
        "tokenizer.fit_on_texts(X_train)\n",
        "X_train = tokenizer.texts_to_sequences(X_train)\n",
        "X_test = tokenizer.texts_to_sequences(X_test)\n"
      ]
    },
    {
      "cell_type": "code",
      "execution_count": null,
      "metadata": {
        "id": "hRtcQNKPlKgU",
        "outputId": "881d09ac-8d74-4e1e-9dd1-11643e20af2d"
      },
      "outputs": [
        {
          "name": "stdout",
          "output_type": "stream",
          "text": [
            "둘 다 text -> 정수로 변환 해줍니다 \n",
            "\n",
            "\n",
            "[66, 355, 88, 177, 370, 9, 1, 231, 12, 1, 97, 1, 71, 26, 120, 47]\n",
            "[57, 2, 4505, 64, 2, 2385, 20, 2679, 3222, 45, 268, 117, 63, 36, 991, 330, 1938, 12, 37, 11, 112, 3285, 235, 27, 150, 51, 2396, 1186, 64, 1727, 10918, 661, 281, 57, 729, 67]\n"
          ]
        }
      ],
      "source": [
        "print(\"둘 다 text -> 정수로 변환 해줍니다 \\n\\n\")\n",
        "print(X_train[1])\n",
        "print(X_test[1])"
      ]
    },
    {
      "cell_type": "code",
      "execution_count": null,
      "metadata": {
        "colab": {
          "base_uri": "https://localhost:8080/",
          "height": 315
        },
        "id": "y5G1Q2HKOJEf",
        "outputId": "592971c9-e35c-458a-d0fe-e0280627d7ca"
      },
      "outputs": [
        {
          "name": "stdout",
          "output_type": "stream",
          "text": [
            "문장의 최대 길이 : 99\n",
            "문장의 평균 길이 : 30.813564504785493\n"
          ]
        }
      ],
      "source": [
        "print('문장의 최대 길이 :',max(len(l) for l in X_train))\n",
        "print('문장의 평균 길이 :',sum(map(len, X_train))/len(X_train))\n",
        "# plt.hist([len(s) for s in X_train], bins=50)\n",
        "# plt.xlabel('length of samples')\n",
        "# plt.ylabel('number of samples')\n",
        "# plt.show()"
      ]
    },
    {
      "cell_type": "code",
      "execution_count": null,
      "metadata": {
        "id": "SzyE9jiAOM4y"
      },
      "outputs": [],
      "source": [
        "def below_threshold_len(max_len, nested_list):\n",
        "  cnt = 0\n",
        "  for s in nested_list:\n",
        "    if(len(s) <= max_len):\n",
        "        cnt = cnt + 1\n",
        "  print('전체 샘플 중 길이가 %s 이하인 샘플의 비율: %s'%(max_len, (cnt / len(nested_list))*100))"
      ]
    },
    {
      "cell_type": "code",
      "execution_count": null,
      "metadata": {
        "colab": {
          "base_uri": "https://localhost:8080/"
        },
        "id": "10e9vplUOTCS",
        "outputId": "34caa5b2-bc34-44ed-8f89-276714d3834e"
      },
      "outputs": [
        {
          "name": "stdout",
          "output_type": "stream",
          "text": [
            "전체 샘플 중 길이가 60 이하인 샘플의 비율: 99.59636730575177\n"
          ]
        }
      ],
      "source": [
        "max_len = 60\n",
        "below_threshold_len(max_len, X_train)"
      ]
    },
    {
      "cell_type": "code",
      "execution_count": null,
      "metadata": {
        "id": "EaK55Va2OUyk"
      },
      "outputs": [],
      "source": [
        "X_train = pad_sequences(X_train, maxlen = max_len)\n",
        "X_test = pad_sequences(X_test, maxlen = max_len)"
      ]
    },
    {
      "cell_type": "code",
      "execution_count": null,
      "metadata": {
        "id": "Q_9eAJRglKgV",
        "outputId": "e8891797-5a75-439a-a88d-18880fa6893d"
      },
      "outputs": [
        {
          "data": {
            "text/plain": [
              "(32703, 60)"
            ]
          },
          "execution_count": 205,
          "metadata": {},
          "output_type": "execute_result"
        }
      ],
      "source": [
        "X_train.shape"
      ]
    },
    {
      "cell_type": "code",
      "execution_count": null,
      "metadata": {
        "id": "FkeadvXllKgV"
      },
      "outputs": [],
      "source": [
        "# X_train = X_train.reshape(-1, 32703, max_len)\n",
        "# X_test  = X_test.reshape(-1, X_test.shape[0], max_len)\n",
        "# y_train = y_train.reshape(-1, 32703, 1)\n",
        "# y_test = y_test.reshape(-1, y_test.shape[0], 1)"
      ]
    },
    {
      "cell_type": "code",
      "execution_count": null,
      "metadata": {
        "id": "XPZYY_99lKgV"
      },
      "outputs": [],
      "source": [
        "# y_train"
      ]
    },
    {
      "cell_type": "code",
      "execution_count": null,
      "metadata": {
        "colab": {
          "base_uri": "https://localhost:8080/"
        },
        "id": "RDFfgbbFLtvB",
        "outputId": "1d87d9f7-16fc-459a-cef8-b38c641eb845"
      },
      "outputs": [
        {
          "data": {
            "text/plain": [
              "(7089, 300)"
            ]
          },
          "execution_count": 208,
          "metadata": {},
          "output_type": "execute_result"
        }
      ],
      "source": [
        "from gensim.models import Word2Vec\n",
        "Word2Vec_model = Word2Vec(sentences = train_data['tokenized'], vector_size = 300, window = 5,\n",
        "                          min_count = 5, workers = 4, sg = 0)\n",
        "Word2Vec_model.wv.vectors.shape"
      ]
    },
    {
      "cell_type": "code",
      "execution_count": null,
      "metadata": {
        "id": "8A492hyjlKgW",
        "outputId": "9b9c6845-1824-4384-b656-fab15e4029bf"
      },
      "outputs": [
        {
          "data": {
            "text/plain": [
              "153"
            ]
          },
          "execution_count": 209,
          "metadata": {},
          "output_type": "execute_result"
        }
      ],
      "source": [
        "#Word2Vec_model.wv.key_to_index.keys()\n",
        "Word2Vec_model.wv.get_index(\"짜증\")\n"
      ]
    },
    {
      "cell_type": "code",
      "execution_count": null,
      "metadata": {
        "id": "ncBqDXBNlKgW"
      },
      "outputs": [],
      "source": [
        "def get_vector(word):\n",
        "    if word in Word2Vec_model.wv.key_to_index.keys():\n",
        "        #return Word2Vec_model[word]\n",
        "        return Word2Vec_model.wv.get_index(word)\n",
        "    else:\n",
        "        return None\n",
        " \n",
        "for word, i in tokenizer.word_index.items(): # 훈련 데이터의 단어 집합에서 단어와 정수 인덱스를 1개씩 꺼내온다.\n",
        "    temp = get_vector(word) # 단어(key) 해당되는 임베딩 벡터의 300개의 값(value)를 임시 변수에 저장\n",
        "    if temp is not None: # 만약 None이 아니라면 임베딩 벡터의 값을 리턴받은 것이므로\n",
        "        embedding_matrix[i] = temp # 해당 단어 위치의 행에 벡터의 값을 저장한다."
      ]
    },
    {
      "cell_type": "code",
      "execution_count": null,
      "metadata": {
        "colab": {
          "base_uri": "https://localhost:8080/"
        },
        "id": "0_E62Yu7L6tB",
        "outputId": "b90aeee5-7d6a-4d0e-be1d-336359506c78"
      },
      "outputs": [
        {
          "name": "stdout",
          "output_type": "stream",
          "text": [
            "(17167, 300)\n"
          ]
        }
      ],
      "source": [
        "vocab_size = len(tokenizer.word_index)+1\n",
        "embedding_matrix = np.zeros((vocab_size, 300))\n",
        "print(np.shape(embedding_matrix))"
      ]
    },
    {
      "cell_type": "code",
      "execution_count": null,
      "metadata": {
        "id": "GQriJo3EOV6v"
      },
      "outputs": [],
      "source": [
        "one_hot_train_labels = utils.to_categorical(y_train)\n",
        "one_hot_test_labels = utils.to_categorical(y_test)"
      ]
    },
    {
      "cell_type": "code",
      "execution_count": null,
      "metadata": {
        "id": "QwLxwgCjlKgW",
        "outputId": "c981a7a0-fa29-4a64-8322-e41a5a342843"
      },
      "outputs": [
        {
          "name": "stdout",
          "output_type": "stream",
          "text": [
            "(7089, 300)\n"
          ]
        }
      ],
      "source": [
        "NUM_WORDS, EMB_DIM = Word2Vec_model.wv.vectors.shape\n",
        "print(Word2Vec_model.wv.vectors.shape)"
      ]
    },
    {
      "cell_type": "code",
      "execution_count": null,
      "metadata": {
        "id": "cPqR-ZytS08a"
      },
      "outputs": [],
      "source": [
        "from tensorflow.keras import models\n",
        "from tensorflow.keras import layers\n",
        "# from tensorflow.keras.layers import Flatten, Embedding, LSTM, Dropout, Dense\n",
        "\n",
        "# NUM_WORDS, EMB_DIM = Word2Vec_model.wv.vectors.shape\n",
        "# parmas\n",
        "model = models.Sequential()\n",
        "emd = Embedding(vocab_size, 300, weights=[embedding_matrix], input_length=max_len, trainable=False)\n",
        "model.add(emd)\n",
        "# model.add(LSTM(128))\n",
        "model.add(Flatten())\n",
        "model.add(layers.Dense(64, activation ='relu'))\n",
        "model.add(layers.Dense(64, activation ='relu'))\n",
        "model.add(layers.Dense(6, activation ='softmax'))\n",
        "\n",
        "model.compile(optimizer='adam', loss='categorical_crossentropy', metrics=['acc'])\n",
        "\n",
        "# history = model.fit(X_train, one_hot_train_labels, epochs=5, batch_size=128,validation_data=(X_test, one_hot_test_labels))"
      ]
    },
    {
      "cell_type": "code",
      "execution_count": null,
      "metadata": {
        "id": "G0YBc-AnlKgW",
        "outputId": "91ce7e2f-19fe-4dbf-adbf-5a60c5d60e32"
      },
      "outputs": [
        {
          "name": "stdout",
          "output_type": "stream",
          "text": [
            "Model: \"sequential_23\"\n",
            "_________________________________________________________________\n",
            "Layer (type)                 Output Shape              Param #   \n",
            "=================================================================\n",
            "embedding_20 (Embedding)     (None, 60, 300)           5150100   \n",
            "_________________________________________________________________\n",
            "flatten_5 (Flatten)          (None, 18000)             0         \n",
            "_________________________________________________________________\n",
            "dense_47 (Dense)             (None, 64)                1152064   \n",
            "_________________________________________________________________\n",
            "dense_48 (Dense)             (None, 64)                4160      \n",
            "_________________________________________________________________\n",
            "dense_49 (Dense)             (None, 6)                 390       \n",
            "=================================================================\n",
            "Total params: 6,306,714\n",
            "Trainable params: 6,306,714\n",
            "Non-trainable params: 0\n",
            "_________________________________________________________________\n"
          ]
        }
      ],
      "source": [
        "model.summary()"
      ]
    },
    {
      "cell_type": "code",
      "execution_count": null,
      "metadata": {
        "id": "pvAa8yq7lKgW"
      },
      "outputs": [],
      "source": [
        "history = model.fit(X_train, one_hot_train_labels, epochs=5, batch_size=128)"
      ]
    },
    {
      "cell_type": "code",
      "execution_count": null,
      "metadata": {
        "id": "hBqRhx7KOcgz"
      },
      "outputs": [],
      "source": [
        "# acc = history.history['acc']\n",
        "# val_acc = history.history['val_acc']\n",
        "\n",
        "# epochs = range(1, len(acc)+1)\n",
        "# plt.plot(epochs, acc, 'bo', label='Training acc')\n",
        "# plt.plot(epochs, val_acc, 'b', label='Validation acc')\n",
        "# plt.title('Training and validation accuracy')\n",
        "# plt.xlabel('Epochs')\n",
        "# plt.ylabel('Accuracy')\n",
        "# plt.legend()\n",
        "\n",
        "# plt.show()"
      ]
    },
    {
      "cell_type": "code",
      "execution_count": null,
      "metadata": {
        "id": "_rmp4FBylKgX"
      },
      "outputs": [],
      "source": [
        "from konlpy.tag import Mecab\n",
        "\n",
        "stopwords = ['도', '는', '다', '의', '가', '이', '은', '한',\n",
        "             '에', '하', '고', '을', '를', '인', '듯', '과',\n",
        "             '와', '네', '들', '듯', '지', '임', '게', '것',\n",
        "             '어', '겠', '있', '군요', '해', '계섯', '시',\n",
        "             '나', '셨', '을까요', '으로']\n",
        "\n",
        "mecab = Mecab()"
      ]
    },
    {
      "cell_type": "code",
      "execution_count": null,
      "metadata": {
        "colab": {
          "base_uri": "https://localhost:8080/"
        },
        "id": "oVLD3vXBPt-Y",
        "outputId": "84c3fc7f-c031-4cd4-eb84-d699520192c6"
      },
      "outputs": [
        {
          "name": "stdout",
          "output_type": "stream",
          "text": [
            "불안\n",
            "기쁨:0.17 당황:0.15 분노:0.17 불안:0.18 상처:0.16 슬픔:0.17\n"
          ]
        }
      ],
      "source": [
        "from konlpy.tag import Mecab\n",
        "\n",
        "mecab = Mecab()\n",
        "\n",
        "def sentiment_predict(new_sentence):\n",
        "  new_sentence = mecab.morphs(new_sentence) # 토큰화\n",
        "  new_sentence = [word for word in new_sentence if not word in stopwords] # 불용어 제거\n",
        "  encoded = tokenizer.texts_to_sequences([new_sentence]) # 정수 인코딩\n",
        "  pad_new = pad_sequences(encoded, maxlen = max_len) # 패딩\n",
        "  score = model.predict(pad_new)\n",
        "  return np.where(score[0] == max(score[0]))[0][0], score[0]\n",
        "\n",
        "sentiments = ['기쁨', '당황', '분노', '불안', '상처', '슬픔']\n",
        "s, score = sentiment_predict(\"아니 왜 안 되는데 화 나네\")\n",
        "sentiment = sentiments[s]\n",
        "print(sentiment)\n",
        "print(f\"기쁨:{score[0]:0.2f} 당황:{score[1]:0.2f} 분노:{score[2]:0.2f} 불안:{score[3]:0.2f} 상처:{score[4]:0.2f} 슬픔:{score[5]:0.2f}\")\n",
        "#print(score)\n"
      ]
    },
    {
      "cell_type": "code",
      "execution_count": null,
      "metadata": {
        "colab": {
          "base_uri": "https://localhost:8080/"
        },
        "id": "KC5-y8jl9nVW",
        "outputId": "6ee1c046-2d7f-4b46-931d-0e5cbef38d3b"
      },
      "outputs": [
        {
          "name": "stdout",
          "output_type": "stream",
          "text": [
            "\u001b[36m \u001b[97m글자와 배경 변경\u001b[0m\n",
            "\u001b[36m \u001b[103m글자와 배경 변경\u001b[0m\n",
            "\u001b[97m \u001b[41m글자와 배경 변경\u001b[0m\n",
            "\u001b[97m \u001b[104m글자와 배경 변경\u001b[0m\n"
          ]
        }
      ],
      "source": [
        "BackGroundColor = 97\n",
        "print(f'\\033[36m \\033[{BackGroundColor}m' + '글자와 배경 변경' + '\\033[0m') \n",
        "BackGroundColor = 103\n",
        "print(f'\\033[36m \\033[{BackGroundColor}m' + '글자와 배경 변경' + '\\033[0m') \n",
        "BackGroundColor = 41\n",
        "print(f'\\033[97m \\033[{BackGroundColor}m' + '글자와 배경 변경' + '\\033[0m') \n",
        "BackGroundColor = 104\n",
        "print(f'\\033[97m \\033[{BackGroundColor}m' + '글자와 배경 변경' + '\\033[0m') \n",
        "#print('\\033[0m \\033[44m' + '글자와 배경 변경' + '\\033[0m') "
      ]
    },
    {
      "cell_type": "code",
      "execution_count": null,
      "metadata": {
        "id": "WNn7EgCS6Vgx"
      },
      "outputs": [],
      "source": [
        "def background(sentence):\n",
        "  sentiments = ['기쁨', '당황', '분노', '불안', '상처', '슬픔']\n",
        "  s,score = sentiment_predict(sentence)\n",
        "  sentiment = sentiments[s]\n",
        "  print(f\"\\n 기쁨:{score[0]:0.2f} 당황:{score[1]:0.2f} 분노:{score[2]:0.2f} 불안:{score[3]:0.2f} 상처:{score[4]:0.2f} 슬픔:{score[5]:0.2f}\")\n",
        "\n",
        "  if sentiment == \"기쁨\":\n",
        "    BackGroundColor = 103\n",
        "    print(f'\\033[30m \\033[{BackGroundColor}m' + sentence + '\\033[0m', end=\".\") \n",
        "  elif sentiment == \"슬픔\":\n",
        "    BackGroundColor = 104\n",
        "    print(f'\\033[97m \\033[{BackGroundColor}m' + sentence + '\\033[0m', end=\".\") \n",
        "  elif sentiment == \"분노\":\n",
        "    BackGroundColor = 41\n",
        "    print(f'\\033[97m \\033[{BackGroundColor}m' + sentence + '\\033[0m', end=\".\") \n",
        "  else:\n",
        "    BackGroundColor = 97\n",
        "    print(f'\\033[36m \\033[{BackGroundColor}m' + sentence + '\\033[0m', end=\".\") \n",
        "  \n",
        "  return score"
      ]
    },
    {
      "cell_type": "code",
      "execution_count": null,
      "metadata": {
        "id": "pR2SiU5mVXVB"
      },
      "outputs": [],
      "source": [
        "import warnings\n",
        "warnings.filterwarnings('ignore')\n",
        "\n",
        "!sudo apt-get install -y fonts-nanum\n",
        "!sudo fc-cache -fv\n",
        "!rm ~/.cache/matplotlib -rf\n",
        "\n",
        "plt.rc('font', family='NanumBarunGothic') "
      ]
    },
    {
      "cell_type": "code",
      "execution_count": null,
      "metadata": {
        "colab": {
          "base_uri": "https://localhost:8080/",
          "height": 319
        },
        "id": "1Q0G2azQ_yoR",
        "outputId": "059c80a6-47d8-4ca5-d483-1f2f014af164"
      },
      "outputs": [
        {
          "name": "stdout",
          "output_type": "stream",
          "text": [
            "\n",
            " 기쁨:0.99 당황:0.00 분노:0.00 불안:0.00 상처:0.00 슬픔:0.00\n",
            "\u001b[30m \u001b[103m기분이 좋다. 왜냐하면 오늘은 공강이기 때문이다.\u001b[0m."
          ]
        },
        {
          "data": {
            "image/png": "[encoded data removed]",
            "text/plain": [
              "<Figure size 432x288 with 1 Axes>"
            ]
          },
          "metadata": {
            "needs_background": "light"
          },
          "output_type": "display_data"
        }
      ],
      "source": [
        "import matplotlib.pyplot as plt\n",
        "\n",
        "writing = '기분이 좋다. 왜냐하면 오늘은 공강이기 때문이다.'\n",
        "score = background(writing)\n",
        "\n",
        "x = np.arange(6)\n",
        "sentiments = ['happy', 'perplexed', 'angery', 'uneasy', 'hurt', 'sad']\n",
        "values = score\n",
        "\n",
        "plt.bar(x, values)\n",
        "plt.xticks(x, sentiments)\n",
        "\n",
        "plt.show()\n"
      ]
    },
    {
      "cell_type": "code",
      "execution_count": null,
      "metadata": {
        "colab": {
          "base_uri": "https://localhost:8080/"
        },
        "id": "gmrPMuEf_4LO",
        "outputId": "b0521aa1-b61f-4273-8bdb-162e31779a5b"
      },
      "outputs": [
        {
          "name": "stdout",
          "output_type": "stream",
          "text": [
            "\n",
            " 기쁨:0.00 당황:0.07 분노:0.54 불안:0.04 상처:0.22 슬픔:0.13\n",
            "\u001b[97m \u001b[41m화가 난다\u001b[0m.\n",
            " 기쁨:0.13 당황:0.17 분노:0.13 불안:0.12 상처:0.22 슬픔:0.23\n",
            "\u001b[97m \u001b[104m친구와 싸웠다\u001b[0m.\n",
            " 기쁨:0.01 당황:0.10 분노:0.03 불안:0.05 상처:0.29 슬픔:0.53\n",
            "\u001b[97m \u001b[104m 슬프다\u001b[0m.\n",
            " 기쁨:0.07 당황:0.12 분노:0.08 불안:0.09 상처:0.31 슬픔:0.34\n",
            "\u001b[97m \u001b[104m 마음이 아프다\u001b[0m.\n",
            " 기쁨:0.51 당황:0.03 분노:0.04 불안:0.03 상처:0.13 슬픔:0.27\n",
            "\u001b[30m \u001b[103m 기분이 좋다\u001b[0m.\n",
            " 기쁨:0.65 당황:0.05 분노:0.06 불안:0.12 상처:0.05 슬픔:0.09\n",
            "\u001b[30m \u001b[103m 왜냐하면 밥이 맛있기 때문이다\u001b[0m.\n",
            " 기쁨:0.06 당황:0.11 분노:0.12 불안:0.08 상처:0.37 슬픔:0.26\n",
            "\u001b[36m \u001b[97m 기분이 좋을까 나쁠까\u001b[0m."
          ]
        }
      ],
      "source": [
        "writing = '화가 난다.친구와 싸웠다. 슬프다. 마음이 아프다. 기분이 좋다. 왜냐하면 밥이 맛있기 때문이다. 기분이 좋을까 나쁠까'\n",
        "writing_list = writing.split(\".\")\n",
        "\n",
        "for sen in writing_list:\n",
        "  background(sen)"
      ]
    },
    {
      "cell_type": "code",
      "execution_count": null,
      "metadata": {
        "id": "c6LcpSKhBjO4"
      },
      "outputs": [],
      "source": []
    }
  ],
  "metadata": {
    "accelerator": "GPU",
    "colab": {
      "provenance": []
    },
    "gpuClass": "standard",
    "kernelspec": {
      "display_name": "Python 3.7.13 ('py37')",
      "language": "python",
      "name": "python3"
    },
    "language_info": {
      "codemirror_mode": {
        "name": "ipython",
        "version": 3
      },
      "file_extension": ".py",
      "mimetype": "text/x-python",
      "name": "python",
      "nbconvert_exporter": "python",
      "pygments_lexer": "ipython3",
      "version": "3.7.13"
    },
    "vscode": {
      "interpreter": {
        "hash": "266a08653584a6f9aa5cfd252d91c26b0a163ecaf5a55724eec78c9649403727"
      }
    }
  },
  "nbformat": 4,
  "nbformat_minor": 0
}